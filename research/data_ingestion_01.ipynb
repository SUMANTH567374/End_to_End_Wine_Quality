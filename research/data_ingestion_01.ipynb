{
 "cells": [
  {
   "cell_type": "code",
   "execution_count": 9,
   "metadata": {},
   "outputs": [
    {
     "data": {
      "text/plain": [
       "'c:\\\\Users\\\\LENOVO\\\\Downloads\\\\wine_quality\\\\End_to_End_Wine_Quality\\\\research'"
      ]
     },
     "execution_count": 9,
     "metadata": {},
     "output_type": "execute_result"
    }
   ],
   "source": [
    "import os\n",
    "%pwd"
   ]
  },
  {
   "cell_type": "code",
   "execution_count": 10,
   "metadata": {},
   "outputs": [],
   "source": [
    "os.chdir('../')"
   ]
  },
  {
   "cell_type": "code",
   "execution_count": 11,
   "metadata": {},
   "outputs": [
    {
     "data": {
      "text/plain": [
       "'c:\\\\Users\\\\LENOVO\\\\Downloads\\\\wine_quality\\\\End_to_End_Wine_Quality'"
      ]
     },
     "execution_count": 11,
     "metadata": {},
     "output_type": "execute_result"
    }
   ],
   "source": [
    "%pwd"
   ]
  },
  {
   "cell_type": "code",
   "execution_count": 12,
   "metadata": {},
   "outputs": [],
   "source": [
    "from dataclasses import dataclass\n",
    "from pathlib import Path\n",
    "\n",
    "\n",
    "@dataclass(frozen=True)\n",
    "class DataIngestionConfig:\n",
    "    root_dir: Path\n",
    "    source_URL: str\n",
    "    local_data_file: Path"
   ]
  },
  {
   "cell_type": "code",
   "execution_count": 13,
   "metadata": {},
   "outputs": [],
   "source": [
    "from Wine_Quality.constants import *\n",
    "from Wine_Quality.utils.common import read_yaml,create_directories"
   ]
  },
  {
   "cell_type": "code",
   "execution_count": 14,
   "metadata": {},
   "outputs": [],
   "source": [
    "class ConfigurationManager:\n",
    "    def __init__(\n",
    "        self,\n",
    "        config_filepath = CONFIG_FILE_PATH,\n",
    "        params_filepath = PARAMS_FILE_PATH,\n",
    "        schema_filepath = SCHEMA_FILE_PATH):\n",
    "\n",
    "        self.config = read_yaml(config_filepath)\n",
    "        self.params = read_yaml(params_filepath)\n",
    "        self.schema = read_yaml(schema_filepath)\n",
    "\n",
    "        create_directories([self.config.artifacts_root])\n",
    "\n",
    "\n",
    "    \n",
    "    def get_data_ingestion_config(self) -> DataIngestionConfig:\n",
    "        config = self.config.data_ingestion\n",
    "\n",
    "        create_directories([config.root_dir])\n",
    "\n",
    "        data_ingestion_config = DataIngestionConfig(\n",
    "            root_dir=config.root_dir,\n",
    "            source_URL=config.source_URL,\n",
    "            local_data_file=config.local_data_file,\n",
    "        )\n",
    "\n",
    "        return data_ingestion_config"
   ]
  },
  {
   "cell_type": "code",
   "execution_count": 15,
   "metadata": {},
   "outputs": [],
   "source": [
    "import os\n",
    "import urllib.request as request\n",
    "from Wine_Quality import logger\n",
    "from Wine_Quality.utils.common import get_size"
   ]
  },
  {
   "cell_type": "code",
   "execution_count": 16,
   "metadata": {},
   "outputs": [],
   "source": [
    "import gdown\n",
    "import os\n",
    "from pathlib import Path\n",
    "from Wine_Quality import logger\n",
    "from Wine_Quality.utils.common import get_size\n",
    "\n",
    "class DataIngestion:\n",
    "    def __init__(self, config: DataIngestionConfig):\n",
    "        self.config = config\n",
    "\n",
    "    def download_file(self):\n",
    "        \"\"\"\n",
    "        Downloads the file from the source URL to a local path.\n",
    "        \"\"\"\n",
    "        file_exists = os.path.exists(self.config.local_data_file)\n",
    "        logger.info(f\"Checking file existence: {file_exists}\")\n",
    "        \n",
    "        if not file_exists:\n",
    "            try:\n",
    "                logger.info(f\"Downloading file from {self.config.source_URL}\")\n",
    "                # Use gdown to download from Google Drive\n",
    "                gdown.download(self.config.source_URL, self.config.local_data_file, quiet=False)\n",
    "                logger.info(f\"File downloaded: {self.config.local_data_file}\")\n",
    "            except Exception as e:\n",
    "                logger.error(f\"Error downloading file: {e}\")\n",
    "        else:\n",
    "            file_size = get_size(Path(self.config.local_data_file))\n",
    "            logger.info(f\"File already exists, size: {file_size}\")\n"
   ]
  },
  {
   "cell_type": "code",
   "execution_count": 17,
   "metadata": {},
   "outputs": [
    {
     "name": "stdout",
     "output_type": "stream",
     "text": [
      "[2024-12-28 12:35:38,829: INFO: common: yaml file: C:\\Users\\LENOVO\\Downloads\\wine_quality\\End_to_End_Wine_Quality\\config\\config.yaml loaded successfully]\n",
      "[2024-12-28 12:35:38,876: INFO: common: yaml file: params.yaml loaded successfully]\n",
      "[2024-12-28 12:35:38,881: INFO: common: yaml file: schema.yaml loaded successfully]\n",
      "[2024-12-28 12:35:38,886: INFO: common: created directory at: artifacts]\n",
      "[2024-12-28 12:35:38,887: INFO: common: created directory at: artifacts/data_ingestion]\n",
      "[2024-12-28 12:35:38,917: INFO: 10219733: Checking file existence: True]\n",
      "[2024-12-28 12:35:38,919: INFO: 10219733: File already exists, size: ~ 99 KB]\n"
     ]
    }
   ],
   "source": [
    "try:\n",
    "    config = ConfigurationManager()\n",
    "    data_ingestion_config = config.get_data_ingestion_config()\n",
    "    data_ingestion = DataIngestion(config=data_ingestion_config)\n",
    "    data_ingestion.download_file()\n",
    "except Exception as e:\n",
    "    raise e"
   ]
  }
 ],
 "metadata": {
  "kernelspec": {
   "display_name": "End_to_End_Wine_Quality",
   "language": "python",
   "name": "python3"
  },
  "language_info": {
   "codemirror_mode": {
    "name": "ipython",
    "version": 3
   },
   "file_extension": ".py",
   "mimetype": "text/x-python",
   "name": "python",
   "nbconvert_exporter": "python",
   "pygments_lexer": "ipython3",
   "version": "3.12.2"
  }
 },
 "nbformat": 4,
 "nbformat_minor": 2
}
